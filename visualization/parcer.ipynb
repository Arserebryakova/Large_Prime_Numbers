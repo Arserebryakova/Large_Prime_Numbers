{
 "cells": [
  {
   "cell_type": "code",
   "id": "initial_id",
   "metadata": {
    "collapsed": true,
    "ExecuteTime": {
     "end_time": "2024-09-23T19:03:26.121606Z",
     "start_time": "2024-09-23T19:03:26.105976Z"
    }
   },
   "source": [
    "import pandas as pd\n",
    "\n",
    "def read_test_result(filename):\n",
    "    data = pd.read_csv(f\"../large_prime_numbers/test_results/{filename}\")\n",
    "\n",
    "    digits = data[\"Digits\"].to_list()\n",
    "    N_values = list(map(int, data[\"N\"].to_list()))[:5]\n",
    "    factor = list(map(int, data[\"factor\"].to_list()))\n",
    "    durations = data[\"duration\"].to_list()\n",
    "    return digits, N_values, factor, durations\n",
    "\n",
    "digits, N_values, factor, durations = read_test_result(\"Miller-Rabin_23-09-2024 21-43-51.csv\")\n",
    "\n",
    "'''\n",
    "for line in data.strip().split('\\n'):\n",
    "    parts = list(map(lambda x: x.strip(), line.split(',')))\n",
    "    digits.append(int(parts[0]))  # Digits\n",
    "    N_values.append(int(parts[1]))  # N\n",
    "    primes_found.append(int(parts[2]))  # Prime numbers found\n",
    "    durations.append(float(parts[3]))  # Duration\n",
    "'''\n",
    "# Output the results\n",
    "print(\"digits =\", digits)\n",
    "print(\"N_values =\", N_values)\n",
    "print(\"primes_found =\", factor)\n",
    "print(\"durations =\", durations)\n"
   ],
   "outputs": [
    {
     "name": "stdout",
     "output_type": "stream",
     "text": [
      "digits = [1, 1, 1, 2, 2, 2, 2, 2, 2, 2, 2, 2, 2, 2, 3, 3, 3, 3, 4, 4, 4, 5, 5, 5, 9, 9, 10, 11, 18, 20, 20, 20, 30, 30, 30, 40, 40, 45, 50, 50, 55, 60, 60]\n",
      "N_values = [2, 4, 7, 11, 12]\n",
      "primes_found = [-1, 2, -1, -1, 2, -1, 2, 6, 2, -1, 2, -1, 2, 15, 2, 560, -1, 937, 552, 2, 6421, 12609, 48143, 83697, -1, -1, 872937909, 8066514948, 1506376898738841, 10524421547973956619, 15462709455754216787, -1, 298039076673478625016667561516, 264677308090873043498273516886, -1, 1393890484641053599353136957177350166354, -1, 74159564348811572186224284238228125116103016, 30246041363171942868663693578415591809609523516428, -1, 3377261080386731000209506424105134865499612779958459264, 656916106078043348392967146604278810224539765210844555949141, -1]\n",
      "durations = [3.9e-06, 1.9e-06, 0.000993, 6.38e-05, 1.7e-06, 3.35e-05, 7e-07, 2.03e-05, 7e-07, 3.41e-05, 7e-07, 3.38e-05, 6e-07, 2.14e-05, 7e-07, 2.43e-05, 4.93e-05, 2.43e-05, 2.55e-05, 6e-07, 2.63e-05, 2.6e-05, 5.83e-05, 2.71e-05, 0.000152, 0.0001091, 3.55e-05, 6e-05, 0.0001249, 0.0001004, 7.2e-05, 0.0002788, 0.0003363, 0.0002656, 0.0013395, 0.000742, 0.0026085, 0.0009615, 0.0008492, 0.0038065, 0.0007323, 0.0013316, 0.0057511]\n"
     ]
    }
   ],
   "execution_count": 31
  },
  {
   "metadata": {
    "ExecuteTime": {
     "end_time": "2024-09-23T19:03:27.860080Z",
     "start_time": "2024-09-23T19:03:27.828830Z"
    }
   },
   "cell_type": "code",
   "source": [
    "import numpy as np\n",
    "print(N_values)\n",
    "np.log(N_values)"
   ],
   "id": "60eae0563624e959",
   "outputs": [
    {
     "name": "stdout",
     "output_type": "stream",
     "text": [
      "[2, 4, 7, 11, 12]\n"
     ]
    },
    {
     "data": {
      "text/plain": [
       "array([0.69314718, 1.38629436, 1.94591015, 2.39789527, 2.48490665])"
      ]
     },
     "execution_count": 32,
     "metadata": {},
     "output_type": "execute_result"
    }
   ],
   "execution_count": 32
  },
  {
   "metadata": {},
   "cell_type": "code",
   "outputs": [],
   "execution_count": null,
   "source": "",
   "id": "d3b6608d3d79ee62"
  }
 ],
 "metadata": {
  "kernelspec": {
   "display_name": "Python 3",
   "language": "python",
   "name": "python3"
  },
  "language_info": {
   "codemirror_mode": {
    "name": "ipython",
    "version": 2
   },
   "file_extension": ".py",
   "mimetype": "text/x-python",
   "name": "python",
   "nbconvert_exporter": "python",
   "pygments_lexer": "ipython2",
   "version": "2.7.6"
  }
 },
 "nbformat": 4,
 "nbformat_minor": 5
}
